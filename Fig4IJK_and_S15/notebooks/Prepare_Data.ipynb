{
 "cells": [
  {
   "cell_type": "markdown",
   "id": "7e04d530",
   "metadata": {},
   "source": [
    "This notebooks produces the file `exp2_lung_tcells.h5` which is needed to produce some Figures in Fig4 and FigS4."
   ]
  },
  {
   "cell_type": "code",
   "execution_count": 1,
   "id": "54c5e7a5",
   "metadata": {
    "ExecuteTime": {
     "end_time": "2022-05-09T17:59:20.007802Z",
     "start_time": "2022-05-09T17:59:17.352067Z"
    }
   },
   "outputs": [
    {
     "data": {
      "text/html": [
       "<style>.container { width:99% !important; }</style>"
      ],
      "text/plain": [
       "<IPython.core.display.HTML object>"
      ]
     },
     "metadata": {},
     "output_type": "display_data"
    }
   ],
   "source": [
    "import scanpy as sc\n",
    "import matplotlib.pyplot as pl\n",
    "import pandas as pd\n",
    "import numpy as np\n",
    "import os\n",
    "import sys\n",
    "import scvelo as scv\n",
    "scv.settings.verbosity=1\n",
    "from tqdm.notebook import tqdm\n",
    "\n",
    "# Jupyter stuff\n",
    "from IPython.display import clear_output\n",
    "from IPython.core.display import display, HTML\n",
    "display(HTML(\"<style>.container { width:99% !important; }</style>\"))\n",
    "%matplotlib inline\n"
   ]
  },
  {
   "cell_type": "code",
   "execution_count": 2,
   "id": "df9a9c6a",
   "metadata": {
    "ExecuteTime": {
     "end_time": "2022-05-09T18:00:00.862742Z",
     "start_time": "2022-05-09T17:59:20.009311Z"
    }
   },
   "outputs": [
    {
     "name": "stderr",
     "output_type": "stream",
     "text": [
      "Variable names are not unique. To make them unique, call `.var_names_make_unique`.\n",
      "Variable names are not unique. To make them unique, call `.var_names_make_unique`.\n",
      "Variable names are not unique. To make them unique, call `.var_names_make_unique`.\n",
      "Variable names are not unique. To make them unique, call `.var_names_make_unique`.\n"
     ]
    }
   ],
   "source": [
    "# Lung tissue is in Exp2, pools 2 and 5.\n",
    "DIR = '/fast/work/projects/bluethgen_landthaler/Cov19_Hamster/data/Impf/'  # replace with the DIR path you've set in the Snakefile\n",
    "MDIR = '../metadata/'\n",
    "libs = ['exp2_Pool2_nomulti', 'exp2_Pool5_nomulti']\n",
    "\n",
    "# Load velocyto loomed h5 files\n",
    "adatas = {}\n",
    "for lib in libs:\n",
    "    tdata = sc.read_10x_h5(f'{DIR}/{lib}/outs/raw_feature_bc_matrix.h5')\n",
    "    tdata.var_names_make_unique()\n",
    "    tdata.obs_names = [x.replace('-1', '') for x in tdata.obs_names]\n",
    "    \n",
    "    experiment, pool, _ = lib.split('_')\n",
    "    tdata.obs['experiment'] = experiment\n",
    "    tdata.obs['pool'] = pool\n",
    "    tdata.obs['library'] = lib\n",
    "    adatas[f'{experiment}_{pool}'] = tdata\n",
    "\n",
    "# merge\n",
    "adata = sc.concat(adatas, index_unique='-')"
   ]
  },
  {
   "cell_type": "code",
   "execution_count": 6,
   "id": "1f1ac4ff",
   "metadata": {
    "ExecuteTime": {
     "end_time": "2022-05-09T18:02:16.160887Z",
     "start_time": "2022-05-09T18:02:16.101373Z"
    }
   },
   "outputs": [],
   "source": [
    "# load Seurat annotation\n",
    "metadata_tcells = pd.read_csv(MDIR+'exp2_lung_Tcells_seurat_metadata.csv', index_col=0).drop([\n",
    "    'integrated_snn_res.1', 'integrated_snn_res.0.5', 'integrated_snn_res.6', 'integrated_snn_res.0.6', 'integrated_snn_res.0.7'\n",
    "], axis=1)\n",
    "pca_tcells = pd.read_csv(MDIR+'exp2_lung_Tcells_seurat_pca.csv', index_col=0)"
   ]
  },
  {
   "cell_type": "code",
   "execution_count": 9,
   "id": "df433571",
   "metadata": {
    "ExecuteTime": {
     "end_time": "2022-05-09T18:02:46.209192Z",
     "start_time": "2022-05-09T18:02:46.204986Z"
    }
   },
   "outputs": [],
   "source": [
    "def rsum(X, axis):\n",
    "    # handles sparse sum, returns array instead of matrix object\n",
    "    return np.ravel(np.sum(X, axis=axis))\n",
    "\n",
    "def calc_qc(adata, extended_genesets=False, species='detect', layer=None):\n",
    "    adatas = adata if isinstance(adata, list) else [adata]\n",
    "    for adata in adatas:\n",
    "        X = adata.X if layer==None else adata.layers[layer]\n",
    "\n",
    "        # qc counts\n",
    "        adata.obs['ncounts'] = rsum(X, axis=1)\n",
    "        adata.obs['ngenes'] = rsum(X>0, axis=1)\n",
    "        adata.var['ncounts'] = rsum(X, axis=0)\n",
    "        adata.var['ncells'] = rsum(X>0, axis=0)"
   ]
  },
  {
   "cell_type": "code",
   "execution_count": 10,
   "id": "12ae6543",
   "metadata": {
    "ExecuteTime": {
     "end_time": "2022-05-09T18:02:47.525571Z",
     "start_time": "2022-05-09T18:02:47.356624Z"
    }
   },
   "outputs": [],
   "source": [
    "# simplify / merge barcodes\n",
    "Pool2=['aaUntr_1', 'aaUntr_2', 'adeno2x_1', 'adeno2x_2', 'adeno2x_3', 'att2x_1',  'att2x_2',  'att2x_3']\n",
    "Pool5=['aaUntr_3', 'aaUntr_4', 'mRNA2x_1', 'mRNA2x_2', 'mRNA2x_3', 'mRNAatt_1', 'mRNAatt_2', 'mRNAatt_3']\n",
    "stab2 = metadata_tcells[np.isin(metadata_tcells['orig.ident'], Pool2)]\n",
    "stab2.index = [x.split('_')[-1][:-2]+'-exp2_Pool2' for x in stab2.index]\n",
    "stab5 = metadata_tcells[np.isin(metadata_tcells['orig.ident'], Pool5)]\n",
    "stab5.index = [x.split('_')[-1][:-2]+'-exp2_Pool5' for x in stab5.index]\n",
    "metadata = pd.concat([stab2, stab5])\n",
    "# cleanup\n",
    "metadata = metadata.drop_duplicates()\n",
    "detected = np.array([x in adata.obs_names for x in metadata.index])\n",
    "cdata = adata[metadata.index[detected]]\n",
    "cdata.obs = pd.concat([cdata.obs, metadata], axis=1)\n",
    "cdata.obs_names_make_unique()\n",
    "cdata.obs = cdata.obs.set_index('cell_id')\n",
    "# add embeddings\n",
    "cdata.obsm['X_umap_seurat'] = cdata.obs[['UMAP_1', 'UMAP_2']].values\n",
    "cdata.obs=cdata.obs.drop(['UMAP_1', 'UMAP_2'], axis=1)\n",
    "cdata.obsm['X_pca_seurat'] = pca_tcells.loc[cdata.obs_names].values\n",
    "assert len(cdata) == len(pca_tcells)"
   ]
  },
  {
   "cell_type": "code",
   "execution_count": 13,
   "id": "80b5fd4b",
   "metadata": {
    "ExecuteTime": {
     "end_time": "2022-05-09T18:03:20.228687Z",
     "start_time": "2022-05-09T18:03:19.682016Z"
    },
    "scrolled": true
   },
   "outputs": [
    {
     "data": {
      "image/png": "[encoded data removed]",
      "text/plain": [
       "<Figure size 432x288 with 1 Axes>"
      ]
     },
     "metadata": {},
     "output_type": "display_data"
    }
   ],
   "source": [
    "scv.pl.scatter(cdata, basis='umap_seurat', color='celltype')"
   ]
  },
  {
   "cell_type": "code",
   "execution_count": 14,
   "id": "83a692b6",
   "metadata": {
    "ExecuteTime": {
     "end_time": "2022-05-09T18:03:58.191822Z",
     "start_time": "2022-05-09T18:03:26.117980Z"
    }
   },
   "outputs": [],
   "source": [
    "# basic feature QC and preprocessing.\n",
    "cdata.layers['counts'] = cdata.X\n",
    "calc_qc(cdata)\n",
    "sc.pp.normalize_per_cell(cdata)\n",
    "sc.pp.filter_genes(cdata, min_cells=20)\n",
    "sc.pp.log1p(cdata)\n",
    "sc.pp.highly_variable_genes(cdata)\n",
    "sc.pp.pca(cdata)\n",
    "sc.pp.neighbors(cdata)\n",
    "sc.tl.umap(cdata)"
   ]
  },
  {
   "cell_type": "code",
   "execution_count": 15,
   "id": "6d770486",
   "metadata": {
    "ExecuteTime": {
     "end_time": "2022-05-09T18:05:04.755654Z",
     "start_time": "2022-05-09T18:04:56.367494Z"
    }
   },
   "outputs": [
    {
     "data": {
      "application/vnd.jupyter.widget-view+json": {
       "model_id": "6038ff84a8b14182b857d57d0b82f9ec",
       "version_major": 2,
       "version_minor": 0
      },
      "text/plain": [
       "  0%|          | 0/2 [00:00<?, ?it/s]"
      ]
     },
     "metadata": {},
     "output_type": "display_data"
    },
    {
     "name": "stderr",
     "output_type": "stream",
     "text": [
      "Variable names are not unique. To make them unique, call `.var_names_make_unique`.\n",
      "Variable names are not unique. To make them unique, call `.var_names_make_unique`.\n"
     ]
    }
   ],
   "source": [
    "# Post hoc add spliced and unspliced layers\n",
    "# load data\n",
    "vdatas = {}\n",
    "for lib in tqdm(libs):\n",
    "    tdata = sc.read(f'{DIR}/{lib}/velocyto/{lib}_loom_velocyto.h5')\n",
    "    tdata.var_names_make_unique()\n",
    "    vdatas[lib] = tdata\n",
    "vdata = sc.concat(vdatas, index_unique='_')\n",
    "\n",
    "# identify cell barcodes\n",
    "cdata.obs['veloc_bc'] = [f'{x.split(\"_\")[-1]}_{lib}' for x, lib in zip(cdata.obs.index, cdata.obs.library)]\n",
    "\n",
    "# align\n",
    "genes = vdata.var.loc[cdata.var_names].index\n",
    "cells = vdata.obs.loc[list(cdata.obs.veloc_bc)].index\n",
    "subdata = vdata[cells, genes].copy()\n",
    "\n",
    "# sanity check\n",
    "assert(subdata.shape == cdata.shape)\n",
    "assert(cdata.obs.veloc_bc[42] == subdata.obs_names[42])\n",
    "assert(cdata.var_names[42] == subdata.var_names[42])\n",
    "\n",
    "# add layers\n",
    "for layer in ['spliced', 'unspliced']:\n",
    "    cdata.layers[layer] = subdata.layers[layer].copy()\n",
    "\n",
    "# drop immediate barcodes\n",
    "cdata.obs = cdata.obs.drop('veloc_bc', axis=1)"
   ]
  },
  {
   "cell_type": "code",
   "execution_count": 16,
   "id": "89b3bd9d",
   "metadata": {
    "ExecuteTime": {
     "end_time": "2022-05-09T18:05:06.767563Z",
     "start_time": "2022-05-09T18:05:06.560231Z"
    }
   },
   "outputs": [
    {
     "name": "stderr",
     "output_type": "stream",
     "text": [
      "... storing 'experiment' as categorical\n"
     ]
    }
   ],
   "source": [
    "# overwrite old\n",
    "cdata.write(DIR+'exp2_lung_tcells.h5')"
   ]
  },
  {
   "cell_type": "code",
   "execution_count": null,
   "id": "089c0dda",
   "metadata": {},
   "outputs": [],
   "source": []
  }
 ],
 "metadata": {
  "hide_input": false,
  "kernelspec": {
   "display_name": "Python 3",
   "language": "python",
   "name": "python3"
  },
  "language_info": {
   "codemirror_mode": {
    "name": "ipython",
    "version": 3
   },
   "file_extension": ".py",
   "mimetype": "text/x-python",
   "name": "python",
   "nbconvert_exporter": "python",
   "pygments_lexer": "ipython3",
   "version": "3.9.5"
  }
 },
 "nbformat": 4,
 "nbformat_minor": 5
}
